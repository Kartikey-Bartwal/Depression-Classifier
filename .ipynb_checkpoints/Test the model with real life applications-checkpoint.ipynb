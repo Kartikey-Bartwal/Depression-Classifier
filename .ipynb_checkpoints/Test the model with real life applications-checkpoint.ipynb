{
 "cells": [
  {
   "cell_type": "code",
   "execution_count": 8,
   "id": "0ad8ebf0",
   "metadata": {},
   "outputs": [],
   "source": [
    "import numpy as np\n",
    "import pandas as pd\n",
    "\n",
    "df = pd.read_csv(\"preprocessed reddit dataset\")"
   ]
  },
  {
   "cell_type": "code",
   "execution_count": 9,
   "id": "c7cc893f",
   "metadata": {},
   "outputs": [],
   "source": [
    "x = df[[\"tokenized_text\" , \"pos_tags\"]]\n",
    "Y = df[[\"is_depression\"]]"
   ]
  },
  {
   "cell_type": "code",
   "execution_count": 10,
   "id": "c68cc888",
   "metadata": {},
   "outputs": [],
   "source": [
    "from sklearn.feature_extraction.text import CountVectorizer\n",
    "import numpy as np\n",
    "from sklearn.model_selection import train_test_split\n",
    "\n",
    "cv = CountVectorizer()\n",
    "x_train, x_test, Y_train, Y_test = train_test_split(x, Y, test_size=0.2, random_state=42)\n",
    "\n",
    "x_train_bow = cv.fit_transform(x_train['tokenized_text']).toarray()\n",
    "x_test_bow = cv.transform(x_test['tokenized_text']).toarray()"
   ]
  },
  {
   "cell_type": "code",
   "execution_count": 11,
   "id": "ffd4788c",
   "metadata": {},
   "outputs": [],
   "source": [
    "import pickle\n",
    "\n",
    "# Load the model from the pickle file\n",
    "with open(\"random_forest_model.pkl\", \"rb\") as file:\n",
    "    random_forest_model = pickle.load(file)"
   ]
  },
  {
   "cell_type": "code",
   "execution_count": 13,
   "id": "a362e6aa",
   "metadata": {},
   "outputs": [
    {
     "name": "stdout",
     "output_type": "stream",
     "text": [
      "Enter text: I have been overthinking a lot recently. I am not sure what do I want, but just thinking about it is making me sad.\n",
      "\n",
      "\n",
      "\n",
      "not depressed\n"
     ]
    }
   ],
   "source": [
    "import re\n",
    "from nltk.tokenize import word_tokenize\n",
    "from nltk.stem import PorterStemmer\n",
    "from nltk.corpus import stopwords\n",
    "from autocorrect import Speller\n",
    "from sklearn.feature_extraction.text import CountVectorizer\n",
    "from sklearn.ensemble import RandomForestClassifier\n",
    "\n",
    "def predict_depression():\n",
    "    # Input text\n",
    "    text = input(\"Enter text: \")\n",
    "\n",
    "    # Remove tags and URLs from the text\n",
    "    cleaned_text = re.sub(r'<.*?>|https?://\\S+|www\\.\\S+', '', text)\n",
    "\n",
    "    # Make all uppercases lowercase\n",
    "    cleaned_text = cleaned_text.lower()\n",
    "\n",
    "    # Remove filler words and extra whitespace\n",
    "    stop_words = set(stopwords.words('english'))\n",
    "    tokens = word_tokenize(cleaned_text)\n",
    "    filtered_tokens = [token for token in tokens if token not in stop_words]\n",
    "    cleaned_text = ' '.join(filtered_tokens)\n",
    "\n",
    "    # Replace emojis (if any) with UTF code\n",
    "    # Code to replace emojis goes here...\n",
    "\n",
    "    # Remove all punctuations\n",
    "    cleaned_text = re.sub(r'[^\\w\\s]', '', cleaned_text)\n",
    "\n",
    "    # Remove any numbers\n",
    "    cleaned_text = re.sub(r'\\d+', '', cleaned_text)\n",
    "\n",
    "    # Passing the text through autocorrect library to correct misspelled words\n",
    "    spell = Speller(lang='en')\n",
    "    cleaned_text = spell(cleaned_text)\n",
    "\n",
    "    # Tokenize the text (each word is a token)\n",
    "    tokens = word_tokenize(cleaned_text)\n",
    "\n",
    "    # Stemming on the text\n",
    "    stemmer = PorterStemmer()\n",
    "    stemmed_tokens = [stemmer.stem(token) for token in tokens]\n",
    "\n",
    "    # Convert stemmed_tokens back to text as a single document\n",
    "    stemmed_text = ' '.join(stemmed_tokens)\n",
    "\n",
    "    # Transform the input text using the same CountVectorizer as used during training\n",
    "    mycv = cv.transform([stemmed_text]).toarray()\n",
    "\n",
    "    output = random_forest_model.predict(mycv)\n",
    "\n",
    "    print()\n",
    "    print()\n",
    "    print()\n",
    "\n",
    "    if output == 1:\n",
    "        print(\"depressed\")\n",
    "    else:\n",
    "        print(\"not depressed\")\n",
    "    \n",
    "predict_depression()"
   ]
  },
  {
   "cell_type": "code",
   "execution_count": null,
   "id": "3576a3dd",
   "metadata": {},
   "outputs": [],
   "source": []
  },
  {
   "cell_type": "code",
   "execution_count": null,
   "id": "9efd9474",
   "metadata": {},
   "outputs": [],
   "source": []
  }
 ],
 "metadata": {
  "kernelspec": {
   "display_name": "Python 3 (ipykernel)",
   "language": "python",
   "name": "python3"
  },
  "language_info": {
   "codemirror_mode": {
    "name": "ipython",
    "version": 3
   },
   "file_extension": ".py",
   "mimetype": "text/x-python",
   "name": "python",
   "nbconvert_exporter": "python",
   "pygments_lexer": "ipython3",
   "version": "3.9.7"
  }
 },
 "nbformat": 4,
 "nbformat_minor": 5
}
