{
 "cells": [
  {
   "cell_type": "code",
   "execution_count": 1,
   "id": "ec04e7a4",
   "metadata": {},
   "outputs": [],
   "source": [
    "from textblob import TextBlob"
   ]
  },
  {
   "cell_type": "code",
   "execution_count": 3,
   "id": "fb1f77ec",
   "metadata": {},
   "outputs": [],
   "source": [
    "word = \"sup nigger\""
   ]
  },
  {
   "cell_type": "code",
   "execution_count": 4,
   "id": "fed6d238",
   "metadata": {},
   "outputs": [
    {
     "data": {
      "text/plain": [
       "'sup nigger'"
      ]
     },
     "execution_count": 4,
     "metadata": {},
     "output_type": "execute_result"
    }
   ],
   "source": [
    "textblb = TextBlob(word)\n",
    "textblb.correct().string"
   ]
  },
  {
   "cell_type": "code",
   "execution_count": 6,
   "id": "cf86f05f",
   "metadata": {},
   "outputs": [],
   "source": [
    "import numpy as np\n",
    "import pandas as pd"
   ]
  },
  {
   "cell_type": "code",
   "execution_count": 7,
   "id": "a504d625",
   "metadata": {},
   "outputs": [],
   "source": [
    "df = pd.read_csv(\"reddit dataset.csv\")"
   ]
  },
  {
   "cell_type": "code",
   "execution_count": 12,
   "id": "1cc123de",
   "metadata": {},
   "outputs": [],
   "source": [
    "text = df['clean_text'][0]"
   ]
  },
  {
   "cell_type": "code",
   "execution_count": 13,
   "id": "356764d7",
   "metadata": {},
   "outputs": [
    {
     "data": {
      "text/plain": [
       "'we understand that most people who reply immediately to an op with an invitation to talk privately mean only to help but this type of response usually lead to either disappointment or disaster it usually work out quite differently here than when you say pm me anytime in a casual social context we have huge admiration and appreciation for the goodwill and good citizenship of so many of you who support others here and flag inappropriate content even more so because we know that so many of you are struggling yourselves we re hard at work behind the scene on more information and resource to make it easier to give and get quality help here this is just a small start our new wiki page explains in detail why it s much better to respond in public comment at least until you ve gotten to know someone it will be maintained at r depression wiki private contact and the full text of the current version is below summary anyone who while acting a a helper invite or accepts private contact i e pm chat or any kind of offsite communication early in the conversion is showing either bad intention or bad judgement either way it s unwise to trust them pm me anytime seems like a kind and generous offer and it might be perfectly well meaning but unless and until a solid rapport ha been established it s just not a wise idea here are some point to consider before you offer or accept an invitation to communicate privately by posting supportive reply publicly you ll help more people than just the op if your response are of good quality you ll educate and inspire other helper the 9 90 rule http en wikipedia org wiki rule internet culture applies here a much a it doe anywhere else on the internet people who are struggling with serious mental health issue often justifiably have a low tolerance for disappointment and a high level of ever changing emotional need unless the helper is able to make a 00 commitment to be there for them in every way for a long a necessary offering a personal inbox a a resource is likely to do more harm than good this is why mental health crisis line responder usually don t give their name and caller aren t allowed to request specific responder it s much healthier and safer for the caller to develop a relationship with the agency a a whole analogously it s much safer and healthier for our ops to develop a relationship with the community a a whole even trained responder are generally not allowed to work high intensity situation alone it s partly about availability but it s mostly about wider perspective and preventing compassion fatigue if a helper get in over their head with someone whose mental health issue including suicidality which is often comorbid with depression escalate in a pm conversation it s much harder for others including the r depression and r suicidewatch moderator to help contrary to common assumption moderator can t see or police pm in our observation over many year the people who say pm me the most are consistently the one with the least understanding of mental health issue and mental health support we all have gap in our knowledge and in our ability to communicate effectively community input mitigates these limitation there s no reason why someone who s truly here to help would want to hide their response from community scrutiny if helper are concerned about their own privacy keep in mind that self disclosure when used supportively is more about the feeling than the detail and that we have no problem here with the use of alt throwaway account and have no restriction on account age or karma we all know the internet is used by some people to exploit or abuse others these people do want to hide their deceptive and manipulative response from everyone except their victim there are many of them who specifically target those who are vulnerable because of mental health issue if a helper invite an op to talk privately and give them a good supportive experience they ve primed that person to be more vulnerable to abuser this sort of cognitive priming tends to be particularly effective when someone s in a state of mental health crisis when people rely more on heuristic than critical reasoning if ops want to talk privately posting on a wide open anonymous forum like reddit might not be the best option although we don t recommend it we do allow ops to request private contact when asking for support if you want to do this please keep your expectation realistic and to have a careful look at the history of anyone who offer to pm before opening up to them'"
      ]
     },
     "execution_count": 13,
     "metadata": {},
     "output_type": "execute_result"
    }
   ],
   "source": [
    "text"
   ]
  },
  {
   "cell_type": "code",
   "execution_count": 14,
   "id": "c0444d86",
   "metadata": {},
   "outputs": [
    {
     "data": {
      "text/plain": [
       "'we understand that most people who reply immediately to an op with an invitation to talk privately mean only to help but this type of response usually lead to either disappointment or disaster it usually work out quite differently here than when you say pm me daytime in a casual social context we have huge admiration and appreciation for the goodwill and good citizenship of so many of you who support others here and flag inappropriate content even more so because we know that so many of you are struggling yourselves we re hard at work behind the scene on more information and resource to make it easier to give and get quality help here this is just a small start our new wiki page explains in detail why it s much better to respond in public comment at least until you ve gotten to know someone it will be maintained at r depression wiki private contact and the full text of the current version is below summary anyone who while acting a a helper invite or accepts private contact i e pm chat or any kind of office communication early in the conversion is showing either bad intention or bad judgement either way it s unwise to trust them pm me daytime seems like a kind and generous offer and it might be perfectly well meaning but unless and until a solid support ha been established it s just not a wise idea here are some point to consider before you offer or accept an invitation to communicate privately by posting suppurative reply publicly you ll help more people than just the op if your response are of good quality you ll educate and inspire other helper the 9 90 rule http en wikipedia org wiki rule internet culture applies here a much a it doe anywhere else on the internet people who are struggling with serious mental health issue often justifiable have a low tolerable for disappointment and a high level of ever changing emotional need unless the helper is able to make a 00 commitment to be there for them in every way for a long a necessary offering a personal into a a resource is likely to do more harm than good this is why mental health crisis line responded usually don t give their name and called aren t allowed to request specific responded it s much wealthier and safer for the called to develop a relationship with the agency a a whole analogous it s much safer and wealthier for our op to develop a relationship with the community a a whole even trained responded are generally not allowed to work high intensity situation alone it s partly about availability but it s mostly about wider perspective and preventing compassion fatigue if a helper get in over their head with someone whose mental health issue including suicidality which is often morbid with depression escapade in a pm conversation it s much harder for others including the r depression and r suicidewatch moderate to help contrary to common assumption moderate can t see or police pm in our observation over many year the people who say pm me the most are consistently the one with the least understanding of mental health issue and mental health support we all have gap in our knowledge and in our ability to communicate effectively community input mitigates these limitation there s no reason why someone who s truly here to help would want to hide their response from community scrutiny if helper are concerned about their own privacy keep in mind that self disclosure when used supportively is more about the feeling than the detail and that we have no problem here with the use of at throwaway account and have no restriction on account age or parma we all know the internet is used by some people to exploit or abuse others these people do want to hide their deceptive and manipulation response from everyone except their victim there are many of them who specifically target those who are vulnerable because of mental health issue if a helper invite an op to talk privately and give them a good suppurative experience they ve prime that person to be more vulnerable to abuses this sort of cognitive priding tends to be particularly effective when someone s in a state of mental health crisis when people rely more on heuristic than critical reasoning if op want to talk privately posting on a wide open anonymous forum like credit might not be the best option although we don t recommend it we do allow op to request private contact when asking for support if you want to do this please keep your expectation realistic and to have a careful look at the history of anyone who offer to pm before opening up to them'"
      ]
     },
     "execution_count": 14,
     "metadata": {},
     "output_type": "execute_result"
    }
   ],
   "source": [
    "textblb = TextBlob(text)\n",
    "textblb.correct().string"
   ]
  },
  {
   "cell_type": "code",
   "execution_count": 15,
   "id": "d88d5403",
   "metadata": {},
   "outputs": [
    {
     "name": "stdout",
     "output_type": "stream",
     "text": [
      "Misspelled word: anytime\n",
      "Corrected word: daytime\n",
      "\n",
      "Misspelled word: offsite\n",
      "Corrected word: office\n",
      "\n",
      "Misspelled word: anytime\n",
      "Corrected word: daytime\n",
      "\n",
      "Misspelled word: rapport\n",
      "Corrected word: support\n",
      "\n",
      "Misspelled word: supportive\n",
      "Corrected word: suppurative\n",
      "\n",
      "Misspelled word: justifiably\n",
      "Corrected word: justifiable\n",
      "\n",
      "Misspelled word: tolerance\n",
      "Corrected word: tolerable\n",
      "\n",
      "Misspelled word: inbox\n",
      "Corrected word: into\n",
      "\n",
      "Misspelled word: responder\n",
      "Corrected word: responded\n",
      "\n",
      "Misspelled word: caller\n",
      "Corrected word: called\n",
      "\n",
      "Misspelled word: responder\n",
      "Corrected word: responded\n",
      "\n",
      "Misspelled word: healthier\n",
      "Corrected word: wealthier\n",
      "\n",
      "Misspelled word: caller\n",
      "Corrected word: called\n",
      "\n",
      "Misspelled word: analogously\n",
      "Corrected word: analogous\n",
      "\n",
      "Misspelled word: healthier\n",
      "Corrected word: wealthier\n",
      "\n",
      "Misspelled word: ops\n",
      "Corrected word: op\n",
      "\n",
      "Misspelled word: responder\n",
      "Corrected word: responded\n",
      "\n",
      "Misspelled word: comorbid\n",
      "Corrected word: morbid\n",
      "\n",
      "Misspelled word: escalate\n",
      "Corrected word: escapade\n",
      "\n",
      "Misspelled word: moderator\n",
      "Corrected word: moderate\n",
      "\n",
      "Misspelled word: moderator\n",
      "Corrected word: moderate\n",
      "\n",
      "Misspelled word: alt\n",
      "Corrected word: at\n",
      "\n",
      "Misspelled word: karma\n",
      "Corrected word: parma\n",
      "\n",
      "Misspelled word: manipulative\n",
      "Corrected word: manipulation\n",
      "\n",
      "Misspelled word: supportive\n",
      "Corrected word: suppurative\n",
      "\n",
      "Misspelled word: primed\n",
      "Corrected word: prime\n",
      "\n",
      "Misspelled word: abuser\n",
      "Corrected word: abuses\n",
      "\n",
      "Misspelled word: priming\n",
      "Corrected word: priding\n",
      "\n",
      "Misspelled word: ops\n",
      "Corrected word: op\n",
      "\n",
      "Misspelled word: reddit\n",
      "Corrected word: credit\n",
      "\n",
      "Misspelled word: ops\n",
      "Corrected word: op\n",
      "\n",
      "Corrected text: we understand that most people who reply immediately to an op with an invitation to talk privately mean only to help but this type of response usually lead to either disappointment or disaster it usually work out quite differently here than when you say pm me daytime in a casual social context we have huge admiration and appreciation for the goodwill and good citizenship of so many of you who support others here and flag inappropriate content even more so because we know that so many of you are struggling yourselves we re hard at work behind the scene on more information and resource to make it easier to give and get quality help here this is just a small start our new wiki page explains in detail why it s much better to respond in public comment at least until you ve gotten to know someone it will be maintained at r depression wiki private contact and the full text of the current version is below summary anyone who while acting a a helper invite or accepts private contact i e pm chat or any kind of office communication early in the conversion is showing either bad intention or bad judgement either way it s unwise to trust them pm me daytime seems like a kind and generous offer and it might be perfectly well meaning but unless and until a solid support ha been established it s just not a wise idea here are some point to consider before you offer or accept an invitation to communicate privately by posting suppurative reply publicly you ll help more people than just the op if your response are of good quality you ll educate and inspire other helper the 9 90 rule http en wikipedia org wiki rule internet culture applies here a much a it doe anywhere else on the internet people who are struggling with serious mental health issue often justifiable have a low tolerable for disappointment and a high level of ever changing emotional need unless the helper is able to make a 00 commitment to be there for them in every way for a long a necessary offering a personal into a a resource is likely to do more harm than good this is why mental health crisis line responded usually don t give their name and called aren t allowed to request specific responded it s much wealthier and safer for the called to develop a relationship with the agency a a whole analogous it s much safer and wealthier for our op to develop a relationship with the community a a whole even trained responded are generally not allowed to work high intensity situation alone it s partly about availability but it s mostly about wider perspective and preventing compassion fatigue if a helper get in over their head with someone whose mental health issue including suicidality which is often morbid with depression escapade in a pm conversation it s much harder for others including the r depression and r suicidewatch moderate to help contrary to common assumption moderate can t see or police pm in our observation over many year the people who say pm me the most are consistently the one with the least understanding of mental health issue and mental health support we all have gap in our knowledge and in our ability to communicate effectively community input mitigates these limitation there s no reason why someone who s truly here to help would want to hide their response from community scrutiny if helper are concerned about their own privacy keep in mind that self disclosure when used supportively is more about the feeling than the detail and that we have no problem here with the use of at throwaway account and have no restriction on account age or parma we all know the internet is used by some people to exploit or abuse others these people do want to hide their deceptive and manipulation response from everyone except their victim there are many of them who specifically target those who are vulnerable because of mental health issue if a helper invite an op to talk privately and give them a good suppurative experience they ve prime that person to be more vulnerable to abuses this sort of cognitive priding tends to be particularly effective when someone s in a state of mental health crisis when people rely more on heuristic than critical reasoning if op want to talk privately posting on a wide open anonymous forum like credit might not be the best option although we don t recommend it we do allow op to request private contact when asking for support if you want to do this please keep your expectation realistic and to have a careful look at the history of anyone who offer to pm before opening up to them\n"
     ]
    }
   ],
   "source": [
    "from textblob import TextBlob\n",
    "\n",
    "# Example text\n",
    "# text = \"I lovee eatting aaple!\"\n",
    "\n",
    "# Create a TextBlob object\n",
    "blob = TextBlob(text)\n",
    "\n",
    "# Iterate over each word in the text\n",
    "for word in blob.words:\n",
    "    # Check if the word is misspelled\n",
    "    if word != word.correct():\n",
    "        print(\"Misspelled word:\", word)\n",
    "        print(\"Corrected word:\", word.correct())\n",
    "        print()\n",
    "\n",
    "# Correct the misspelled words in the text\n",
    "corrected_text = str(blob.correct())\n",
    "\n",
    "# Print the corrected text\n",
    "print(\"Corrected text:\", corrected_text)"
   ]
  },
  {
   "cell_type": "code",
   "execution_count": null,
   "id": "d00a709f",
   "metadata": {},
   "outputs": [],
   "source": []
  }
 ],
 "metadata": {
  "kernelspec": {
   "display_name": "Python 3 (ipykernel)",
   "language": "python",
   "name": "python3"
  },
  "language_info": {
   "codemirror_mode": {
    "name": "ipython",
    "version": 3
   },
   "file_extension": ".py",
   "mimetype": "text/x-python",
   "name": "python",
   "nbconvert_exporter": "python",
   "pygments_lexer": "ipython3",
   "version": "3.9.7"
  }
 },
 "nbformat": 4,
 "nbformat_minor": 5
}
