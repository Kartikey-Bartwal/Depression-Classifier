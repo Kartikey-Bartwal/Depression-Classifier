{
 "cells": [
  {
   "cell_type": "code",
   "execution_count": 1,
   "id": "e1876cce",
   "metadata": {},
   "outputs": [
    {
     "name": "stdout",
     "output_type": "stream",
     "text": [
      "Enter text:jkj\n"
     ]
    }
   ],
   "source": [
    "text = input(\"Enter text:\")\n",
    "\n",
    "# Remove tags and urls from the text\n",
    "\n",
    "# Make all uppercases lowercase\n",
    "\n",
    "# Remove filler words and extra whitespace\n",
    "\n",
    "# Replace emojis (if any) with UTF code\n",
    "\n",
    "# Remove all punctuations\n",
    "\n",
    "# Remove any numbers\n",
    "\n",
    "# Passing the text through autocorrect library to correct misspelled words\n",
    "\n",
    "# Tokenize the text (each word is a token)\n",
    "\n",
    "# Stemming on the text\n",
    "\n",
    "# Apply Bag of words on text and pass it to the model\n",
    "\n",
    "# If output is 1, print the person is predicted to be depressed. Else print the person is not depressed"
   ]
  },
  {
   "cell_type": "code",
   "execution_count": 2,
   "id": "aa9bd328",
   "metadata": {},
   "outputs": [
    {
     "name": "stdout",
     "output_type": "stream",
     "text": [
      "Enter text: THhere has been some misconception. I'm a strong and capable person. I am powerful!!!!!!\n"
     ]
    }
   ],
   "source": []
  },
  {
   "cell_type": "code",
   "execution_count": 3,
   "id": "8beb9a67",
   "metadata": {},
   "outputs": [
    {
     "data": {
      "text/plain": [
       "['there', 'misconcept', 'm', 'strong', 'capabl', 'person', 'power']"
      ]
     },
     "execution_count": 3,
     "metadata": {},
     "output_type": "execute_result"
    }
   ],
   "source": [
    "stemmed_tokens"
   ]
  },
  {
   "cell_type": "code",
   "execution_count": null,
   "id": "ec622d44",
   "metadata": {},
   "outputs": [],
   "source": []
  }
 ],
 "metadata": {
  "kernelspec": {
   "display_name": "Python 3 (ipykernel)",
   "language": "python",
   "name": "python3"
  },
  "language_info": {
   "codemirror_mode": {
    "name": "ipython",
    "version": 3
   },
   "file_extension": ".py",
   "mimetype": "text/x-python",
   "name": "python",
   "nbconvert_exporter": "python",
   "pygments_lexer": "ipython3",
   "version": "3.9.7"
  }
 },
 "nbformat": 4,
 "nbformat_minor": 5
}
